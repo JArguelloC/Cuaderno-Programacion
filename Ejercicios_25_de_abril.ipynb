{
  "nbformat": 4,
  "nbformat_minor": 0,
  "metadata": {
    "colab": {
      "provenance": []
    },
    "kernelspec": {
      "name": "python3",
      "display_name": "Python 3"
    },
    "language_info": {
      "name": "python"
    }
  },
  "cells": [
    {
      "cell_type": "markdown",
      "source": [
        "**Ejercicio 1**"
      ],
      "metadata": {
        "id": "F_OcA3LFC4Xg"
      }
    },
    {
      "cell_type": "code",
      "execution_count": null,
      "metadata": {
        "id": "KFWT3wjDAeSS"
      },
      "outputs": [],
      "source": [
        "import random\n",
        "\n",
        "# Solicita al usuario ingresar el tamaño del vector y lo almacena en la variable 'n'\n",
        "n = int(input('Ingrese el tamaño del vector:'))\n",
        "\n",
        "# Inicializa una lista vacía 'vec' que contendrá los números del vector\n",
        "vec = []\n",
        "\n",
        "# Inicializa la variable 'suma' en 0 para acumular la suma de los elementos del vector\n",
        "suma = 0\n",
        "\n",
        "# Bucle 'for' que se repite 'n' veces para llenar el vector con números aleatorios\n",
        "for i in range(n):\n",
        "    # Genera un número aleatorio entre 0 y 100 y lo almacena en 'num'\n",
        "    num = random.randint(0, 100)\n",
        "    # Agrega el número generado a la lista 'vec'\n",
        "    vec.append(num)\n",
        "\n",
        "# Inicializa la variable 'mayor' con el primer elemento del vector\n",
        "mayor = vec[0]\n",
        "\n",
        "# Inicializa la variable 'ind' para almacenar el índice del mayor elemento\n",
        "ind = 0\n",
        "\n",
        "# Bucle 'for' que recorre cada elemento del vector\n",
        "for i in range(n):\n",
        "    # Suma el elemento actual a la variable 'suma'\n",
        "    suma = suma + vec[i]\n",
        "    # Si el elemento actual es mayor que 'mayor', actualiza 'mayor' e 'ind'\n",
        "    if vec[i] > mayor:\n",
        "        mayor = vec[i]\n",
        "        ind = i\n",
        "\n",
        "# Calcula el promedio de los elementos del vector\n",
        "promedio = suma / n\n",
        "\n",
        "# Imprime el vector completo\n",
        "print(vec)\n",
        "\n",
        "# Imprime el mayor elemento y su índice\n",
        "print(f'El mayor es {mayor} y se encuentra en {ind}')\n",
        "\n",
        "# Imprime el promedio de los elementos del vector\n",
        "print(f\"El promedio es {promedio}\")"
      ]
    },
    {
      "cell_type": "markdown",
      "source": [
        "**Ejercicio 2**"
      ],
      "metadata": {
        "id": "AApu1plOC7M_"
      }
    },
    {
      "cell_type": "code",
      "source": [
        "# Solicita al usuario ingresar el tamaño del vector y lo almacena en la variable 'n'\n",
        "n = int(input('Ingrese el tamaño del Vector:'))\n",
        "\n",
        "# Inicializa una lista vacía 'vec' que contendrá los números del vector\n",
        "vec = []\n",
        "\n",
        "# Ingreso de datos en el vector\n",
        "# Bucle 'for' que se repite 'n' veces para llenar el vector con números aleatorios entre 0 y 10\n",
        "for i in range(n):\n",
        "    # Genera un número aleatorio entre 0 y 10 y lo almacena en 'num'\n",
        "    num = random.randint(0, 10)\n",
        "    # Agrega el número generado a la lista 'vec'\n",
        "    vec.append(num)\n",
        "\n",
        "# IMPRESION de vector de manera iterativa\n",
        "print(\"IMPRESION NORMAL\")\n",
        "# Imprime el vector en un formato específico\n",
        "print('[', end=\"\")\n",
        "for i in range(n):\n",
        "    # Si es el último elemento, lo imprime sin un espacio al final\n",
        "    if i == n - 1:\n",
        "        print(vec[i], end=\"\")\n",
        "    else:\n",
        "        # Si no es el último elemento, lo imprime seguido de un espacio\n",
        "        print(vec[i], end=\" \")\n",
        "print(']')\n",
        "\n",
        "# ORDENAMIENTO de vector - Método Burbuja\n",
        "# Bucle 'for' para cada elemento del vector\n",
        "for i in range(n):\n",
        "    # Bucle 'for' para comparar cada elemento con el siguiente\n",
        "    for j in range(n - 1):\n",
        "        # Si el elemento actual es mayor que el siguiente, los intercambia\n",
        "        if vec[j] > vec[j + 1]:\n",
        "            vec[j], vec[j + 1] = vec[j + 1], vec[j]\n",
        "\n",
        "# IMPRESION de vector de manera iterativa\n",
        "print(\"IMPRESION ORDENADA\")\n",
        "# Imprime el vector ordenado en un formato específico\n",
        "print('[', end=\"\")\n",
        "for i in range(n):\n",
        "    # Si es el último elemento, lo imprime sin un espacio al final\n",
        "    if i == n - 1:\n",
        "        print(vec[i], end=\"\")\n",
        "    else:\n",
        "        # Si no es el último elemento, lo imprime seguido de un espacio\n",
        "        print(vec[i], end=\" \")\n",
        "print(']')"
      ],
      "metadata": {
        "id": "vPWZIdvqDepg"
      },
      "execution_count": null,
      "outputs": []
    }
  ]
}