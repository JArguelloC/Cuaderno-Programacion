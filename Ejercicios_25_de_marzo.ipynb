{
  "nbformat": 4,
  "nbformat_minor": 0,
  "metadata": {
    "colab": {
      "provenance": []
    },
    "kernelspec": {
      "name": "python3",
      "display_name": "Python 3"
    },
    "language_info": {
      "name": "python"
    }
  },
  "cells": [
    {
      "cell_type": "markdown",
      "source": [
        "**Ejercicio 1**"
      ],
      "metadata": {
        "id": "sDLPZWHzF4KM"
      }
    },
    {
      "cell_type": "code",
      "execution_count": 3,
      "metadata": {
        "colab": {
          "base_uri": "https://localhost:8080/"
        },
        "id": "nqobOSizF2C9",
        "outputId": "346c86e8-c183-4b37-d408-c5aa0d6686d2"
      },
      "outputs": [
        {
          "output_type": "stream",
          "name": "stdout",
          "text": [
            "Ingrese el Número:26.9\n",
            "Con Decimal\n"
          ]
        }
      ],
      "source": [
        "#Verificar si un número tiene decimales o no\n",
        "num=float(input('Ingrese el Número:')) #Pedir al usuario ingresar un número\n",
        "#Si el número no tiene decimal\n",
        "if num%1==0:\n",
        "    print('Sin decimal')\n",
        "#Caso contrario tiene decimal\n",
        "else:\n",
        "    print('Con Decimal')"
      ]
    },
    {
      "cell_type": "markdown",
      "source": [
        "**Ejercicio 2**"
      ],
      "metadata": {
        "id": "AN7lMrhN6vw0"
      }
    },
    {
      "cell_type": "code",
      "source": [
        "#Programa de seguridad para ingresar a un sistema\n",
        "nombre=input('Ingrese el user:') #Pedir al usuario ingresar su usuario\n",
        "passwd=input('Ingrese la clave:') #Pedir al usuario ingresar su contraseña\n",
        "\n",
        "#Si el usuario ingresa bien el usuario y la contraseña, ingresar al sistema\n",
        "if (nombre=='James' and passwd=='puce'):\n",
        "    print('Ingrese al sistema')\n",
        "\n",
        "#Caso contrario, negar el ingreso a la misma\n",
        "else:\n",
        "    print('No puedes ingresar al sistema')"
      ],
      "metadata": {
        "colab": {
          "base_uri": "https://localhost:8080/"
        },
        "id": "T4C-RaI76w8B",
        "outputId": "2eb0c2cc-c64e-4578-e1b1-f693d632a939"
      },
      "execution_count": 1,
      "outputs": [
        {
          "output_type": "stream",
          "name": "stdout",
          "text": [
            "Ingrese el user:Jose\n",
            "Ingrese la clave:1234\n",
            "No puedes ingresar al sistema\n"
          ]
        }
      ]
    },
    {
      "cell_type": "markdown",
      "source": [
        "**Ejercicio 3**"
      ],
      "metadata": {
        "id": "YZ4bJW7IC36b"
      }
    },
    {
      "cell_type": "code",
      "source": [
        "#Programa para determinar un triángulo\n",
        "a=int(input('Ingrese el lado 1:')) #Pedir al usuario ingresar el lado a\n",
        "b=int(input('Ingrese el lado 2:')) #Pedir al usuario ingresar el lado b\n",
        "c=int(input('Ingrese el lado 3:')) #Pedir al usuario ingresar el lado c\n",
        "\n",
        "#Si el lado el lado a más b es mayor que c, y a más c mayor que b, y b más c mayor que a, es un triángulo\n",
        "if a+b>c and a+c>b and b+c>a:\n",
        "    print(\"Es triángulo\")\n",
        "#Caso contrario de no cumplir la condición, no será un triángulo\n",
        "else:\n",
        "    print('No es un triángulo')"
      ],
      "metadata": {
        "colab": {
          "base_uri": "https://localhost:8080/"
        },
        "id": "hgWQc3IJC5z6",
        "outputId": "3e439651-7cfb-45b8-b40a-260f10e7f2c8"
      },
      "execution_count": 2,
      "outputs": [
        {
          "output_type": "stream",
          "name": "stdout",
          "text": [
            "Ingrese el lado 1:10\n",
            "Ingrese el lado 2:20\n",
            "Ingrese el lado 3:30\n",
            "No es un triángulo\n"
          ]
        }
      ]
    },
    {
      "cell_type": "markdown",
      "source": [
        "**Ejercicio 4**"
      ],
      "metadata": {
        "id": "GU7vpyh1J5n_"
      }
    },
    {
      "cell_type": "code",
      "source": [
        "#Ejercicio del libro de Joyanes (hallar el número mayor entre 3 números)\n",
        "A=int(input('Ingrese A:'))\n",
        "B=int(input('Ingrese B:'))\n",
        "C=int(input('Ingrese C:'))\n",
        "#Si A es mayor que B pasar a la condición\n",
        "if A>B:\n",
        "  #Si A es mayor C\n",
        "    if A>C:\n",
        "        mayor=A #El primer número es mayor\n",
        "    else:\n",
        "        mayor=C #El último número es mayor\n",
        "#Si B es menor que C entonces\n",
        "else:\n",
        "    if B>C:\n",
        "        mayor=B #El segundo número es mayor\n",
        "    else:\n",
        "        mayor=C #El último número es mayor\n",
        "print(f'El mayor es {mayor}')"
      ],
      "metadata": {
        "colab": {
          "base_uri": "https://localhost:8080/"
        },
        "id": "aOuT-GMZJxNp",
        "outputId": "fac2d6d0-d4b7-48e4-ac33-2e35b4b76818"
      },
      "execution_count": 4,
      "outputs": [
        {
          "output_type": "stream",
          "name": "stdout",
          "text": [
            "Ingrese A:10\n",
            "Ingrese B:25\n",
            "Ingrese C:9\n",
            "El mayor es 25\n"
          ]
        }
      ]
    },
    {
      "cell_type": "markdown",
      "source": [
        "**Ejercicio 5**"
      ],
      "metadata": {
        "id": "8qbN_qKFK0wf"
      }
    },
    {
      "cell_type": "code",
      "source": [
        "#Colocar la cantidad de iteraciones\n",
        "i=5\n",
        "#Mientras la variable i sea mayor que 0\n",
        "while i>0:\n",
        "  #Imprimir el orden de los números\n",
        "    print(f'{i}',end=\" \") #El \"end\" ayuda a colocar los resultados en una linea\n",
        "    i=i-1"
      ],
      "metadata": {
        "colab": {
          "base_uri": "https://localhost:8080/"
        },
        "id": "0tDh238jK2lt",
        "outputId": "78baafff-def6-4dbf-e672-14ddabbca312"
      },
      "execution_count": 5,
      "outputs": [
        {
          "output_type": "stream",
          "name": "stdout",
          "text": [
            "5 4 3 2 1 "
          ]
        }
      ]
    }
  ]
}