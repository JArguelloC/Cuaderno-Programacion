{
  "nbformat": 4,
  "nbformat_minor": 0,
  "metadata": {
    "colab": {
      "provenance": []
    },
    "kernelspec": {
      "name": "python3",
      "display_name": "Python 3"
    },
    "language_info": {
      "name": "python"
    }
  },
  "cells": [
    {
      "cell_type": "markdown",
      "source": [
        "**Ejercicio 1**"
      ],
      "metadata": {
        "id": "8IyYqUODT3q6"
      }
    },
    {
      "cell_type": "code",
      "execution_count": 4,
      "metadata": {
        "id": "4QOuNYf6T3D0",
        "colab": {
          "base_uri": "https://localhost:8080/"
        },
        "outputId": "44eed6ef-e69a-4c9f-ed8c-b73ad77438af"
      },
      "outputs": [
        {
          "output_type": "stream",
          "name": "stdout",
          "text": [
            "Ingrese cuántas filas desea: 4\n",
            "Ingrese cuántas columnas desea: 5\n",
            "10 6 9 9 6 \n",
            "8 6 10 9 9 \n",
            "4 2 2 5 6 \n",
            "8 2 6 2 3 \n",
            "Las medias de las columnas son: \n",
            "[7.5, 4.0, 6.75, 6.25, 6.0]\n",
            "[6, 6, 9, 9, 10]\n",
            "[6, 8, 9, 9, 10]\n",
            "[2, 2, 4, 5, 6]\n",
            "[2, 2, 3, 6, 8]\n",
            "Las medianas de las filas son: \n",
            "[9, 9, 4, 3]\n"
          ]
        }
      ],
      "source": [
        "import random\n",
        "\n",
        "# Solicita al usuario ingresar el número de filas y columnas de la matriz.\n",
        "m = int(input(\"Ingrese cuántas filas desea: \"))\n",
        "n = int(input(\"Ingrese cuántas columnas desea: \"))\n",
        "\n",
        "# Inicializa una lista vacía para la matriz.\n",
        "matriz = []\n",
        "\n",
        "# Crea la matriz con números aleatorios entre 1 y 10.\n",
        "for i in range(m):\n",
        "    filas = []  # Inicializa una lista vacía para la fila.\n",
        "    for j in range(n):\n",
        "        num = random.randint(1, 10)  # Genera un número aleatorio entre 1 y 10.\n",
        "        filas.append(num)  # Agrega el número a la fila.\n",
        "    matriz.append(filas)  # Agrega la fila a la matriz.\n",
        "\n",
        "# Impresión de la matriz.\n",
        "for i in matriz:\n",
        "    for j in i:\n",
        "        print(j, end=\" \")  # Imprime cada número seguido de un espacio.\n",
        "    print()  # Salta a la siguiente línea al final de cada fila.\n",
        "\n",
        "# Cálculo de las medias de las columnas.\n",
        "medias = []\n",
        "for i in range(n):\n",
        "    acum = 0  # Inicializa el acumulador de la columna.\n",
        "    for j in range(m):\n",
        "        acum += matriz[j][i]  # Suma el valor de la celda a la columna.\n",
        "    media = acum / m  # Calcula la media de la columna.\n",
        "    medias.append(media)  # Agrega la media a la lista de medias.\n",
        "\n",
        "print(\"Las medias de las columnas son: \")\n",
        "print(medias)\n",
        "\n",
        "# Cálculo de las medianas de las filas.\n",
        "# Ordena cada fila para calcular la mediana.\n",
        "medianas = []\n",
        "for e in matriz:\n",
        "    e.sort()  # Ordena la fila.\n",
        "    print(e)  # Imprime la fila ordenada (opcional para ver el orden).\n",
        "\n",
        "for p in range(m):\n",
        "    # Determina la mediana en función de la longitud de la fila (n).\n",
        "    if n % 2 == 0:\n",
        "        mediana = (matriz[p][n // 2] + matriz[p][(n // 2) - 1]) / 2  # Si es par, la mediana es el promedio de los dos valores centrales.\n",
        "    else:\n",
        "        mediana = matriz[p][n // 2]  # Si es impar, la mediana es el valor central.\n",
        "    medianas.append(mediana)  # Agrega la mediana a la lista de medianas.\n",
        "\n",
        "print(\"Las medianas de las filas son: \")\n",
        "print(medianas)"
      ]
    }
  ]
}