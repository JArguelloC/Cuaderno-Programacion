{
  "nbformat": 4,
  "nbformat_minor": 0,
  "metadata": {
    "colab": {
      "provenance": []
    },
    "kernelspec": {
      "name": "python3",
      "display_name": "Python 3"
    },
    "language_info": {
      "name": "python"
    }
  },
  "cells": [
    {
      "cell_type": "markdown",
      "source": [
        "**Ejercicio 1**"
      ],
      "metadata": {
        "id": "N54GFPD5owr4"
      }
    },
    {
      "cell_type": "code",
      "execution_count": 1,
      "metadata": {
        "colab": {
          "base_uri": "https://localhost:8080/"
        },
        "id": "yS92aLVmovBW",
        "outputId": "b77a556d-a2b9-43c1-f96f-77977bec0079"
      },
      "outputs": [
        {
          "output_type": "stream",
          "name": "stdout",
          "text": [
            "Ingrese el número de personas:3\n",
            "Ingrese el peso:70\n",
            "Ingrese el peso:60\n",
            "Ingrese el peso:80\n",
            "El promedio es 70.0\n",
            "El mayor es 80.0\n"
          ]
        }
      ],
      "source": [
        "# Solicita al usuario el número de personas y lo almacena en la variable 'n'\n",
        "n = int(input('Ingrese el número de personas:'))\n",
        "\n",
        "# Inicializa la variable de control del bucle 'i' en 1\n",
        "i = 1\n",
        "\n",
        "# Inicializa la variable acumuladora 'acu' en 0, que se usará para sumar los pesos\n",
        "acu = 0\n",
        "\n",
        "# Inicializa la variable 'mayor' en 0, que se usará para guardar el mayor peso\n",
        "mayor = 0\n",
        "\n",
        "# Bucle 'while' que se repetirá 'n' veces (una por cada persona)\n",
        "while i <= n:\n",
        "    # Solicita al usuario el peso de la persona y lo almacena en la variable 'peso'\n",
        "    peso = float(input('Ingrese el peso:'))\n",
        "\n",
        "    # Suma el peso ingresado al acumulador 'acu'\n",
        "    acu = acu + peso\n",
        "\n",
        "    # Si el peso ingresado es mayor que el valor actual de 'mayor', actualiza 'mayor'\n",
        "    if peso > mayor:\n",
        "        mayor = peso\n",
        "\n",
        "    # Incrementa el valor de 'i' en 1 para pasar a la siguiente persona\n",
        "    i = i + 1\n",
        "\n",
        "# Calcula el promedio de los pesos dividiendo la suma acumulada por el número de personas\n",
        "promedio = acu / n\n",
        "\n",
        "# Imprime el promedio de los pesos\n",
        "print(f'El promedio es {promedio}')\n",
        "\n",
        "# Imprime el mayor peso encontrado\n",
        "print(f'El mayor es {mayor}')"
      ]
    },
    {
      "cell_type": "markdown",
      "source": [
        "**Ejercicio 2**"
      ],
      "metadata": {
        "id": "YndMekVA8dyJ"
      }
    },
    {
      "cell_type": "code",
      "source": [
        "# Solicita al usuario ingresar las horas y almacena el valor en la variable 'horas'\n",
        "horas = int(input('Ingrese las horas:'))\n",
        "\n",
        "# Solicita al usuario ingresar la tarifa y almacena el valor en la variable 'tarifa'\n",
        "tarifa = int(input('Ingrese la tarifa:'))\n",
        "\n",
        "# Condicional que verifica si las horas son menores o iguales a 1\n",
        "if horas <= 1:\n",
        "    # Si las horas son menores o iguales a 1, el precio es igual a la tarifa\n",
        "    precio = tarifa\n",
        "# Condicional que verifica si las horas son mayores a 1 y menores o iguales a 3\n",
        "elif horas > 1 and horas <= 3:\n",
        "    # Si las horas son mayores a 1 y menores o iguales a 3, el precio es la tarifa más el costo adicional\n",
        "    # por cada hora extra (a partir de la segunda hora) que es 0.75 veces la tarifa por hora\n",
        "    precio = tarifa + (horas - 1) * 0.75 * tarifa\n",
        "# Condicional que verifica si las horas son mayores a 3 y menores o iguales a 5\n",
        "elif horas > 3 and horas <= 5:\n",
        "    # Si las horas son mayores a 3 y menores o iguales a 5, el precio es la tarifa más el costo adicional\n",
        "    # por las primeras dos horas extra (2*0.75 veces la tarifa) más el costo adicional por cada hora extra\n",
        "    # (a partir de la cuarta hora) que es 0.50 veces la tarifa por hora\n",
        "    precio = tarifa + 2 * tarifa * 0.75 + (horas - 3) * 0.50 * tarifa\n",
        "# Condicional que verifica si las horas son mayores a 5\n",
        "elif horas > 5:\n",
        "    # Si las horas son mayores a 5, el precio es la tarifa más el costo adicional por las primeras dos horas extra\n",
        "    # (2*0.75 veces la tarifa) más el costo adicional por las siguientes dos horas extra (2*0.50 veces la tarifa)\n",
        "    # más el costo adicional por cada hora extra (a partir de la sexta hora) que es 0.25 veces la tarifa por hora\n",
        "    precio = tarifa + 2 * tarifa * 0.75 + 2 * tarifa * 0.50 + (horas - 5) * 0.25 * tarifa\n",
        "\n",
        "# Imprime el precio final calculado\n",
        "print(f'El precio final es {precio}')"
      ],
      "metadata": {
        "colab": {
          "base_uri": "https://localhost:8080/"
        },
        "id": "u6reuNsK8fJU",
        "outputId": "e83279f5-3221-4973-89b1-6cd451cf26a6"
      },
      "execution_count": 2,
      "outputs": [
        {
          "output_type": "stream",
          "name": "stdout",
          "text": [
            "Ingrese las horas:4\n",
            "Ingrese la tarifa:5\n",
            "El precio final es 15.0\n"
          ]
        }
      ]
    },
    {
      "cell_type": "markdown",
      "source": [
        "**Ejercicio 3**"
      ],
      "metadata": {
        "id": "zKWWiUo68vqv"
      }
    },
    {
      "cell_type": "code",
      "source": [
        "# Solicita al usuario la cantidad de notas a ingresar y lo almacena en la variable 'n'\n",
        "n = int(input('Ingrese la cantidad de notas:'))\n",
        "\n",
        "# Inicializa los contadores para cada intervalo de notas en 0\n",
        "cont1 = 0  # Contador para notas en el intervalo [0, 4)\n",
        "cont2 = 0  # Contador para notas en el intervalo [4, 7)\n",
        "cont3 = 0  # Contador para notas en el intervalo [7, 10]\n",
        "\n",
        "# Bucle 'for' que se repite 'n' veces, una por cada nota a ingresar\n",
        "for i in range(n):\n",
        "    # Solicita al usuario ingresar una nota y la almacena en la variable 'nota'\n",
        "    nota = int(input('Ingrese la nota:'))\n",
        "\n",
        "    # Verifica si la nota está dentro del rango válido [0, 10]\n",
        "    if nota >= 0 or nota <= 10:\n",
        "        # Si la nota está en el rango [0, 4), incrementa el contador 'cont1'\n",
        "        if nota >= 0 and nota < 4:\n",
        "            cont1 = cont1 + 1\n",
        "        # Si la nota está en el rango [4, 7), incrementa el contador 'cont2'\n",
        "        elif nota >= 4 and nota < 7:\n",
        "            cont2 = cont2 + 1\n",
        "        # Si la nota está en el rango [7, 10], incrementa el contador 'cont3'\n",
        "        elif nota >= 7 and nota <= 10:\n",
        "            cont3 = cont3 + 1\n",
        "    else:\n",
        "        # Si la nota no está dentro del rango válido, imprime un mensaje de error\n",
        "        print('Calificación Incorrecta')\n",
        "        continue  # Continua con la siguiente iteración del bucle\n",
        "\n",
        "# Imprime el conteo de notas en cada intervalo\n",
        "print(f'Intervalo 1: {cont1}')\n",
        "print(f'Intervalo 2: {cont2}')\n",
        "print(f'Intervalo 3: {cont3}')"
      ],
      "metadata": {
        "colab": {
          "base_uri": "https://localhost:8080/"
        },
        "id": "Tb3pzob78y3Q",
        "outputId": "d653e5d2-b472-44f5-d546-ae7daf4f4ad0"
      },
      "execution_count": 3,
      "outputs": [
        {
          "output_type": "stream",
          "name": "stdout",
          "text": [
            "Ingrese la cantidad de notas:5\n",
            "Ingrese la nota:10\n",
            "Ingrese la nota:3\n",
            "Ingrese la nota:6\n",
            "Ingrese la nota:7\n",
            "Ingrese la nota:9\n",
            "Intervalo 1: 1\n",
            "Intervalo 2: 1\n",
            "Intervalo 3: 3\n"
          ]
        }
      ]
    }
  ]
}