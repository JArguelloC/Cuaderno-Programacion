{
  "nbformat": 4,
  "nbformat_minor": 0,
  "metadata": {
    "colab": {
      "provenance": []
    },
    "kernelspec": {
      "name": "python3",
      "display_name": "Python 3"
    },
    "language_info": {
      "name": "python"
    }
  },
  "cells": [
    {
      "cell_type": "markdown",
      "source": [
        "**Ejercicio 1**"
      ],
      "metadata": {
        "id": "8CrKO1Z8Ev43"
      }
    },
    {
      "cell_type": "code",
      "execution_count": null,
      "metadata": {
        "id": "2Vayt39rEQPj"
      },
      "outputs": [],
      "source": [
        "import random\n",
        "\n",
        "# Solicita al usuario ingresar el número de filas y lo almacena en la variable 'm'\n",
        "m = int(input(\"Ingrese las filas:\"))\n",
        "\n",
        "# Solicita al usuario ingresar el número de columnas y lo almacena en la variable 'n'\n",
        "n = int(input(\"Ingrese las columnas:\"))\n",
        "\n",
        "# Inicializa una lista vacía 'A' que contendrá la matriz\n",
        "A = []\n",
        "\n",
        "# Bucle para crear la matriz\n",
        "for i in range(m):\n",
        "    filas = []  # Inicializa una lista vacía para cada fila\n",
        "    for j in range(n):\n",
        "        num = random.randint(0, 10)  # Genera un número aleatorio entre 0 y 10\n",
        "        filas.append(num)  # Agrega el número generado a la fila\n",
        "    A.append(filas)  # Agrega la fila completa a la matriz\n",
        "\n",
        "# Imprime la matriz\n",
        "print(A)\n",
        "\n",
        "# Imprime la matriz en formato tabulado\n",
        "for i in A:\n",
        "    for j in i:\n",
        "        print(j, end=\"\\t\")\n",
        "    print()\n",
        "\n",
        "# Suma de los elementos de la primera fila\n",
        "suma = 0\n",
        "for i in range(n):\n",
        "    if i == 0:\n",
        "        for j in A[i]:\n",
        "            suma += j\n",
        "print(f\"La suma es {suma}\")\n",
        "\n",
        "# Suma de los elementos de una fila aleatoria\n",
        "suma1 = 0\n",
        "alea = random.randint(1, m-1)  # Genera un índice aleatorio entre 1 y m-1 (evita la primera fila)\n",
        "for i in range(n):\n",
        "    suma1 += A[alea][i]\n",
        "\n",
        "print(f\"La fila aleatoria es {alea}\")\n",
        "print(f\"La suma es {suma1}\")\n",
        "\n",
        "# Suma de la diagonal principal (si la matriz es cuadrada)\n",
        "if m == n:\n",
        "    diagonal = 0\n",
        "    for i in range(n):\n",
        "        for j in range(m):\n",
        "            if i == j:  # Verifica si el elemento está en la diagonal principal\n",
        "                diagonal += A[i][j]\n",
        "    print(f\"La suma de la diagonal es {diagonal}\")"
      ]
    },
    {
      "cell_type": "markdown",
      "source": [
        "**Ejercicio 2**"
      ],
      "metadata": {
        "id": "h08rV06rEwSv"
      }
    },
    {
      "cell_type": "code",
      "source": [
        "import random as rd  # Importa el módulo 'random' y lo renombra como 'rd'\n",
        "import matplotlib.pyplot as plt  # Importa el módulo 'matplotlib.pyplot' para generar gráficos\n",
        "\n",
        "# Definición de entradas\n",
        "# Solicita al usuario ingresar el tamaño del vector y lo almacena en la variable 'n'\n",
        "n = int(input('Ingrese el tamaño del Vector:'))\n",
        "\n",
        "# Inicializa dos listas vacías 'vec1' y 'vec2' que contendrán los números de los vectores\n",
        "vec1 = []\n",
        "vec2 = []\n",
        "\n",
        "# Ingreso de datos en los vectores\n",
        "# Bucle 'for' que se repite 'n' veces para llenar los vectores con números aleatorios\n",
        "for i in range(n):\n",
        "    # Genera un número aleatorio entre 0 y 10 y lo almacena en 'num1'\n",
        "    num1 = rd.randint(0, 10)\n",
        "    # Agrega el número generado a la lista 'vec1'\n",
        "    vec1.append(num1)\n",
        "\n",
        "    # Genera un número aleatorio entre 0 y 10 y lo almacena en 'num2'\n",
        "    num2 = rd.randint(0, 10)\n",
        "    # Agrega el número generado a la lista 'vec2'\n",
        "    vec2.append(num2)\n",
        "\n",
        "# Imprime los dos vectores\n",
        "print(vec1)\n",
        "print(vec2)\n",
        "\n",
        "# Genera un gráfico de dispersión (scatter plot) de 'vec1' versus 'vec2'\n",
        "# 'ro' especifica que los puntos del gráfico serán de color rojo ('r') y en forma de círculo ('o')\n",
        "plt.plot(vec1, vec2, 'ro')\n",
        "\n",
        "# Muestra el gráfico generado\n",
        "plt.show()"
      ],
      "metadata": {
        "id": "Yg9otlLyEw7V"
      },
      "execution_count": null,
      "outputs": []
    },
    {
      "cell_type": "markdown",
      "source": [
        "**Ejercicio 3**"
      ],
      "metadata": {
        "id": "G9wXI6ALGR1v"
      }
    },
    {
      "cell_type": "code",
      "source": [
        "import random as rd\n",
        "\n",
        "# Definición de entradas\n",
        "n = int(input('Ingrese el tamaño del Vector:'))\n",
        "vec = []\n",
        "\n",
        "# Ingreso de datos en el vector\n",
        "for i in range(n):\n",
        "    num = rd.randint(0, 10)  # Genera un número aleatorio entre 0 y 10\n",
        "    vec.append(num)  # Agrega el número generado a la lista 'vec'\n",
        "\n",
        "# IMPRESION de vector de manera iterativa\n",
        "print(\"IMPRESION NORMAL\")\n",
        "print('[', end=\"\")\n",
        "for i in range(n):\n",
        "    if i == n - 1:\n",
        "        print(vec[i], end=\"\")\n",
        "    else:\n",
        "        print(vec[i], end=\" \")\n",
        "print(']')\n",
        "\n",
        "# IMPRESION AL REVÉS - Forma 1\n",
        "print(\"IMPRESION AL REVÉS - Forma 1\")\n",
        "print('[', end=\"\")\n",
        "n = len(vec)\n",
        "for i in range(n - 1, -1, -1):  # Itera en reversa desde el último índice hasta el primero\n",
        "    if i == 0:\n",
        "        print(vec[i], end=\"\")\n",
        "    else:\n",
        "        print(vec[i], end=\" \")\n",
        "print(']')\n",
        "\n",
        "# IMPRESION AL REVÉS - Forma 2 (Iterativa)\n",
        "print(\"IMPRESION AL REVÉS - Forma 2 (Iterativa)\")\n",
        "print('[', end=\"\")\n",
        "for i in range(len(vec)):\n",
        "    if i == n - 1:\n",
        "        print(vec[-i - 1], end=\"\")\n",
        "    else:\n",
        "        print(vec[-i - 1], end=\" \")\n",
        "print(']')"
      ],
      "metadata": {
        "id": "r463k8LbGT8u"
      },
      "execution_count": null,
      "outputs": []
    }
  ]
}