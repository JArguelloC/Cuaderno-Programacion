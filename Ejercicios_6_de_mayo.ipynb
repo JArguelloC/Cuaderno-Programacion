{
  "nbformat": 4,
  "nbformat_minor": 0,
  "metadata": {
    "colab": {
      "provenance": []
    },
    "kernelspec": {
      "name": "python3",
      "display_name": "Python 3"
    },
    "language_info": {
      "name": "python"
    }
  },
  "cells": [
    {
      "cell_type": "markdown",
      "source": [
        "**Ejercicio 1**"
      ],
      "metadata": {
        "id": "hKKW9LmdG8OH"
      }
    },
    {
      "cell_type": "code",
      "execution_count": 1,
      "metadata": {
        "id": "3F_rJVf2GutD",
        "colab": {
          "base_uri": "https://localhost:8080/"
        },
        "outputId": "36d87b0d-54d6-44f1-d084-72542a1efa80"
      },
      "outputs": [
        {
          "output_type": "stream",
          "name": "stdout",
          "text": [
            "Homero\n",
            "El tamaño de la lista es 3\n",
            "['Homero', 'Marge', 'Bart', 'Lisa']\n",
            "['Homero', 'Oscar', 'Marge', 'Bart', 'Lisa']\n",
            "['Homero', 'Marge', 'Bart', 'Lisa']\n"
          ]
        }
      ],
      "source": [
        "# Definición de la lista `simpsons`\n",
        "simpsons = [\"Homero\", \"Marge\", \"Bart\"]\n",
        "\n",
        "# Accediendo al primer elemento de la lista (índice 0)\n",
        "print(simpsons[0])  # Imprime: Homero\n",
        "\n",
        "# Imprimiendo el tamaño de la lista usando la función `len()`\n",
        "print(f\"El tamaño de la lista es {len(simpsons)}\")\n",
        "\n",
        "# Agregando un nuevo elemento al final de la lista usando `append()`\n",
        "simpsons.append(\"Lisa\")\n",
        "print(simpsons)  # Imprime: ['Homero', 'Marge', 'Bart', 'Lisa']\n",
        "\n",
        "# Insertando un nuevo elemento en la posición 1 usando `insert()`\n",
        "simpsons.insert(1, \"Oscar\")\n",
        "print(simpsons)  # Imprime: ['Homero', 'Oscar', 'Marge', 'Bart', 'Lisa']\n",
        "\n",
        "# Removiendo un elemento específico de la lista usando `remove()`\n",
        "simpsons.remove(\"Oscar\")\n",
        "print(simpsons)  # Imprime: ['Homero', 'Marge', 'Bart', 'Lisa']"
      ]
    },
    {
      "cell_type": "markdown",
      "source": [
        "**Ejercicio 2**"
      ],
      "metadata": {
        "id": "REXbu0_uG_P-"
      }
    },
    {
      "cell_type": "code",
      "source": [
        "import random\n",
        "\n",
        "# Inicialización del vector vacío\n",
        "vec = []\n",
        "\n",
        "# Solicitar al usuario ingresar el tamaño del vector\n",
        "n = int(input(\"Ingrese el tamaño del vector:\"))\n",
        "\n",
        "# Generar números aleatorios entre 1 y 10 y añadirlos al vector\n",
        "for i in range(n):\n",
        "    num = random.randint(1, 10)\n",
        "    vec.append(num)\n",
        "\n",
        "# Imprimir el vector generado\n",
        "print(vec)\n",
        "\n",
        "# Ciclo para eliminar elementos del vector\n",
        "while True:\n",
        "    # Solicitar al usuario el elemento que desea eliminar\n",
        "    elim = str(input(\"Qué elemento quieres eliminar:\"))\n",
        "\n",
        "    # Iterar sobre los elementos del vector\n",
        "    for i in vec:\n",
        "        # Si el elemento a eliminar está en el vector, removerlo\n",
        "        if elim in vec:\n",
        "            vec.remove(elim)\n",
        "\n",
        "    # Imprimir el vector actualizado después de eliminar el elemento\n",
        "    print(vec)\n",
        "\n",
        "    # Preguntar al usuario si desea eliminar más elementos\n",
        "    opc = input(\"Quieres eliminar más elementos (si/no):\")\n",
        "\n",
        "    # Si la respuesta es \"si\", continuar con el ciclo\n",
        "    if opc.lower() == \"si\":\n",
        "        continue\n",
        "    else:\n",
        "        break"
      ],
      "metadata": {
        "id": "ko9OGDhSHFcU",
        "colab": {
          "base_uri": "https://localhost:8080/"
        },
        "outputId": "6047f69c-fe07-47c6-85a0-ab905a27001a"
      },
      "execution_count": 4,
      "outputs": [
        {
          "name": "stdout",
          "output_type": "stream",
          "text": [
            "Ingrese el tamaño del vector:5\n",
            "[4, 2, 10, 7, 8]\n",
            "Qué elemento quieres eliminar:10\n",
            "[4, 2, 10, 7, 8]\n",
            "Quieres eliminar más elementos (si/no):si\n",
            "Qué elemento quieres eliminar:coca cola\n",
            "[4, 2, 10, 7, 8]\n",
            "Quieres eliminar más elementos (si/no):no\n"
          ]
        }
      ]
    },
    {
      "cell_type": "markdown",
      "source": [
        "**Ejercicio 3**"
      ],
      "metadata": {
        "id": "MqGXkZLcHQlt"
      }
    },
    {
      "cell_type": "code",
      "source": [
        "# Definición de una lista de días de la semana\n",
        "weekdays = [\"mon\", \"tues\", \"wed\", \"thurs\", \"fri\"]\n",
        "\n",
        "# Imprimir elementos de la lista desde el índice 2 hasta el final\n",
        "print(weekdays[2:])\n"
      ],
      "metadata": {
        "id": "n1QkLjXPHSNd",
        "colab": {
          "base_uri": "https://localhost:8080/"
        },
        "outputId": "cd54fed5-2b0d-4196-caa7-e33bdfc6e67d"
      },
      "execution_count": 9,
      "outputs": [
        {
          "output_type": "stream",
          "name": "stdout",
          "text": [
            "['wed', 'thurs', 'fri']\n"
          ]
        }
      ]
    }
  ]
}