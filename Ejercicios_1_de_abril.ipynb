{
  "nbformat": 4,
  "nbformat_minor": 0,
  "metadata": {
    "colab": {
      "provenance": []
    },
    "kernelspec": {
      "name": "python3",
      "display_name": "Python 3"
    },
    "language_info": {
      "name": "python"
    }
  },
  "cells": [
    {
      "cell_type": "markdown",
      "source": [
        "**Ejercicio 1**"
      ],
      "metadata": {
        "id": "z6xNY-kRMCIC"
      }
    },
    {
      "cell_type": "code",
      "execution_count": 1,
      "metadata": {
        "colab": {
          "base_uri": "https://localhost:8080/"
        },
        "id": "UUTY-md3LatU",
        "outputId": "a2268fac-540a-4837-920f-6d459e68717e"
      },
      "outputs": [
        {
          "output_type": "stream",
          "name": "stdout",
          "text": [
            "Ingrese n:5\n",
            "Iteración 5\n",
            "Iteración 4\n",
            "Iteración 3\n",
            "Iteración 2\n",
            "Iteración 1\n"
          ]
        }
      ],
      "source": [
        "#Programa para iterar en base a una cantidad n\n",
        "n=int(input('Ingrese n:')) #Pedir al usuario ingresar la cantidad de veces\n",
        "i=n #La iteración se basará en la cantidad ingresada por el usuario\n",
        "while i>0: #Mientras el valor de n es mayor que 0 entonces\n",
        "  #Imprimir cada iteración basada en n\n",
        "    print(f'Iteración {i}')\n",
        "    #Además i se reducirá hasta 1\n",
        "    i=i-1"
      ]
    },
    {
      "cell_type": "markdown",
      "source": [
        "**Ejercicio 2**"
      ],
      "metadata": {
        "id": "GRCOlsc_MpRH"
      }
    },
    {
      "cell_type": "code",
      "source": [
        "#Programa para hallar la sumatoria de un número\n",
        "n=int(input('Ingrese un número:')) #Pedir al usuario ingresar un número\n",
        "acu=0 #Inicialzar el acumulador\n",
        "i=1 #La variable i empezara desde 1\n",
        "#Mientras i sea menor o igual que el número\n",
        "while i<=n:\n",
        "    acu=acu+i #El acumulador se sumará en base a i\n",
        "    #Imprimir el orden de la sumatoria\n",
        "    print(f'{i}',end=\",\")\n",
        "    #Realizar la sumatoria\n",
        "    i=i+1\n",
        "#Imprimir la sumatoria del número\n",
        "print(f'La sumatoria de {i-1} es:{acu}')"
      ],
      "metadata": {
        "colab": {
          "base_uri": "https://localhost:8080/"
        },
        "id": "tgbsJZUCNOKb",
        "outputId": "b93a9ee1-a7e8-44d5-dcd3-19567c628a08"
      },
      "execution_count": 4,
      "outputs": [
        {
          "output_type": "stream",
          "name": "stdout",
          "text": [
            "Ingrese un número:5\n",
            "1,2,3,4,5,La sumatoria de 5 es:15\n"
          ]
        }
      ]
    },
    {
      "cell_type": "markdown",
      "source": [
        "**Ejercicio 3**"
      ],
      "metadata": {
        "id": "NbLZ55EMN5JH"
      }
    },
    {
      "cell_type": "code",
      "source": [
        "#Programa que dado cierto número hallar la sumatoria (igual que el anterior)\n",
        "n=int(input('Ingrese n:')) #Pedir al usuario ingresar un número\n",
        "acu=0 #Iniciaizar el acumulador\n",
        "i=1 #La variable i empezara desde 1\n",
        "\n",
        "#Mientras i sea menor o igual que el número\n",
        "while i<=n:\n",
        "    acu=acu+i #El acumulador se sumará en base a i\n",
        "    #Si i es booleano igual a n entonces\n",
        "    #Imprime los resultados con espacios\n",
        "    if i==n:\n",
        "        print(f'{i}',end=\"\")\n",
        "    else:\n",
        "        print(f'{i}',end=\",\")\n",
        "    #Realizar la sumatoria\n",
        "    i=i+1\n",
        "#Imprimir la sumatoria del número con una linea de espacio\n",
        "print(f'\\nLa suma es:{acu}')"
      ],
      "metadata": {
        "colab": {
          "base_uri": "https://localhost:8080/"
        },
        "id": "wmVTnN-fN8Re",
        "outputId": "772ddc82-a7c0-447f-920e-77096282dc4d"
      },
      "execution_count": 7,
      "outputs": [
        {
          "output_type": "stream",
          "name": "stdout",
          "text": [
            "Ingrese n:6\n",
            "1,2,3,4,5,6\n",
            "La suma es:21\n"
          ]
        }
      ]
    },
    {
      "cell_type": "markdown",
      "source": [
        "**Ejercicio 4**"
      ],
      "metadata": {
        "id": "JOecP_N4Phzp"
      }
    },
    {
      "cell_type": "code",
      "source": [
        "#Programa que dado cierto número hallar la sumatoria pero decimal\n",
        "n=int(input('Ingrese n:')) #Pedir al usuario ingresar un número\n",
        "acu=0 #Iniciaizar el acumulador\n",
        "i=1 #La variable i empezara desde 1\n",
        "\n",
        "#Mientras i sea menor o igual que el número\n",
        "while i<=n:\n",
        "    acu=acu+1/i #El acumulador se sumará en base a i\n",
        "    #Si i es booleano igual a n entonces\n",
        "    #Imprime los resultados con espacios\n",
        "    if i==n:\n",
        "        print(f'{1/i}',end=\"\")\n",
        "    else:\n",
        "        print(f'{1/i}',end=\",\")\n",
        "    #Realizar la sumatoria\n",
        "    i=i+1\n",
        "#Imprimir la sumatoria del número con una linea de espacio\n",
        "print(f'\\nLa suma es:{acu}')"
      ],
      "metadata": {
        "colab": {
          "base_uri": "https://localhost:8080/"
        },
        "id": "HvUX2lIpPjgE",
        "outputId": "14ee4867-2925-44f0-8f55-7cc34e5d211a"
      },
      "execution_count": 8,
      "outputs": [
        {
          "output_type": "stream",
          "name": "stdout",
          "text": [
            "Ingrese n:5\n",
            "1.0,0.5,0.3333333333333333,0.25,0.2\n",
            "La suma es:2.283333333333333\n"
          ]
        }
      ]
    },
    {
      "cell_type": "markdown",
      "source": [
        "**Ejercicio 5 (con librería)**"
      ],
      "metadata": {
        "id": "ZFXZCyptQHyC"
      }
    },
    {
      "cell_type": "code",
      "source": [
        "#Programa para hallar el factorial (n!)\n",
        "import math as mate #Importamos la librería math de python\n",
        "n=int(input('Ingrese un número (n):')) #Pedir al usuario ingresar un número\n",
        "facto=mate.factorial(n) #Empleamos la función mate.factorial\n",
        "#Imprimir el factorial de n\n",
        "print(f'\\nEl factorial de {n}!={facto}')"
      ],
      "metadata": {
        "colab": {
          "base_uri": "https://localhost:8080/"
        },
        "id": "qo8OAF5eQKAJ",
        "outputId": "d0471217-bc21-4f3e-b2c5-4b3831687448"
      },
      "execution_count": 9,
      "outputs": [
        {
          "output_type": "stream",
          "name": "stdout",
          "text": [
            "Ingrese un número (n):10\n",
            "\n",
            "El factorial de 10!=3628800\n"
          ]
        }
      ]
    },
    {
      "cell_type": "markdown",
      "source": [
        "**Ejercicio 6**"
      ],
      "metadata": {
        "id": "8HIVUQC7QlND"
      }
    },
    {
      "cell_type": "code",
      "source": [
        "#Serie Taylor: Exponencial\n",
        "import math as mt #Importamos la libreria \"math\" como \"mt\" (operaciones matemáticas)\n",
        "import matplotlib.pyplot as plt #Importamos la libreria \"mathplotlib.pyplot\" como \"plt\" (gráficas)\n",
        "acu=0 #Inicializar el acumulador\n",
        "x=int(input('Ingrese el número x:')) #Ingresar un valor para \"x\"\n",
        "n=int(input('Ingrese el número n:')) #Ingresar un valor para \"y\"\n",
        "#Iteramos la función desde 0 hasta n\n",
        "for i in range(0,n):\n",
        "    acu=acu+(x**i)/(mt.factorial(i))\n",
        "    plt.plot(i, acu,'ro')\n",
        "#Imprimir el exponencial de sumatoria\n",
        "print(f'La exponencial por sumatoria es {acu}')\n",
        "expo=mt.exp(x)\n",
        "#Imprimir el exponencial real\n",
        "print(f'La exponencial real es {expo}')\n",
        "plt.title('GRAFICA DE EXPONENCIAL')\n",
        "plt.xlabel('Eje X')\n",
        "plt.ylabel('Eje Y')\n",
        "plt.grid()\n",
        "plt.show()"
      ],
      "metadata": {
        "colab": {
          "base_uri": "https://localhost:8080/",
          "height": 545
        },
        "id": "ubpFK0ANQogW",
        "outputId": "d1798bee-fdef-4adf-b227-0e85d6e1cd25"
      },
      "execution_count": 14,
      "outputs": [
        {
          "output_type": "stream",
          "name": "stdout",
          "text": [
            "Ingrese el número x:12\n",
            "Ingrese el número n:8\n",
            "La exponencial por sumatoria es 14567.285714285714\n",
            "La exponencial real es 162754.79141900392\n"
          ]
        },
        {
          "output_type": "display_data",
          "data": {
            "text/plain": [
              "<Figure size 640x480 with 1 Axes>"
            ],
            "image/png": "[encoded data removed]"
          },
          "metadata": {}
        }
      ]
    }
  ]
}