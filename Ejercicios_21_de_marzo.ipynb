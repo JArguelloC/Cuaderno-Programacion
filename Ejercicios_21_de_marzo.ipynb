{
  "nbformat": 4,
  "nbformat_minor": 0,
  "metadata": {
    "colab": {
      "provenance": []
    },
    "kernelspec": {
      "name": "python3",
      "display_name": "Python 3"
    },
    "language_info": {
      "name": "python"
    }
  },
  "cells": [
    {
      "cell_type": "markdown",
      "source": [
        "**Ejercicio 1**"
      ],
      "metadata": {
        "id": "yoq3W2yn8VT5"
      }
    },
    {
      "cell_type": "code",
      "execution_count": 1,
      "metadata": {
        "colab": {
          "base_uri": "https://localhost:8080/"
        },
        "id": "MYkD3fnX8Syt",
        "outputId": "b4bf7416-95d2-4931-d637-71559b50145b"
      },
      "outputs": [
        {
          "output_type": "stream",
          "name": "stdout",
          "text": [
            "ingrese un número:22\n",
            "El número es par\n"
          ]
        }
      ],
      "source": [
        "#Comprobar si un número es par o impar\n",
        "num=int(input(\"ingrese un número:\"))\n",
        "\n",
        "#Con %2==0 hallamos el par de un número a tráves de sus residuos\n",
        "if num%2==0:\n",
        "    print(\"El número es par\")\n",
        "#Caso contrario será impar\n",
        "else:\n",
        "    print(\"El número es impar\")"
      ]
    },
    {
      "cell_type": "markdown",
      "source": [
        "**Ejercicio 2**"
      ],
      "metadata": {
        "id": "LcCvEQpN8wBd"
      }
    },
    {
      "cell_type": "code",
      "source": [
        "#Comprobar si una ecuación de primer grado tiene solución indeterminada o no\n",
        "print(\"Ecuación de primer grado\")\n",
        "a=int(input(\"Ingrese un número:\"))\n",
        "b=int(input(\"Ingrese un número:\"))\n",
        "\n",
        "#Si el valor de \"a\" es distinto de 0 tenemos x\n",
        "if a!=0:\n",
        "    x=-(b/a)\n",
        "    print(x)\n",
        "#Si \"b\" es igual a 0 tiene solución, caso contrario no tiene solución\n",
        "else:\n",
        "    if b==0:\n",
        "        print(\"Solución indeterminada\")\n",
        "    else:\n",
        "        print(\"Solución imposible\")"
      ],
      "metadata": {
        "colab": {
          "base_uri": "https://localhost:8080/"
        },
        "id": "AWopB9E-8yeH",
        "outputId": "dc6082de-5340-4689-e5a2-8f6ba1e065d5"
      },
      "execution_count": 2,
      "outputs": [
        {
          "output_type": "stream",
          "name": "stdout",
          "text": [
            "Ecuación de primer grado\n",
            "Ingrese un número:12\n",
            "Ingrese un número:0\n",
            "-0.0\n"
          ]
        }
      ]
    },
    {
      "cell_type": "markdown",
      "source": [
        "**Ejercicio 3**"
      ],
      "metadata": {
        "id": "uKluV1gW9a-u"
      }
    },
    {
      "cell_type": "code",
      "source": [
        "#Operaciones en python con menú incluido\n",
        "print('1.- SUMA DE NUMEROS')\n",
        "print('2.- MULTIPLICACION DE NUMEROS')\n",
        "print('3.- DIVISION DE NUMEROS')\n",
        "condicion=int(input('Ingrese la operación:')) #Pedir al usuario ingresar una opción para la operación deseada\n",
        "\n",
        "#Si el usuario ingresa 1, hallar la suma\n",
        "if condicion == 1:\n",
        "    print(\"Suma de números\")\n",
        "    num1=int(input('Ingrese primer número:'))\n",
        "    num2=int(input('Ingrese segundo número:'))\n",
        "    suma=num1+num2\n",
        "    print(f'La suma es {suma}')\n",
        "\n",
        "#Si el usuario ingresa 2, hallar la multiplicación\n",
        "elif condicion == 2:\n",
        "    print(\"Multiplicación de números\")\n",
        "    num1=int(input('Ingrese primer número:'))\n",
        "    num2=int(input('Ingrese segundo número:'))\n",
        "    multi=num1*num2\n",
        "    print(f'La multiplicación es {multi}')\n",
        "\n",
        "#Si el usuario ingresa 3, hallar la división\n",
        "elif condicion == 3:\n",
        "    print(\"División de Números\")\n",
        "    num1=int(input('Ingrese primer número:'))\n",
        "    num2=int(input('Ingrese segundo número:'))\n",
        "    division=num1/num2\n",
        "    print(f'La división es {division}')\n",
        "\n",
        "#Si no ingresa un valor entre (1 a 3) imprimir error\n",
        "else:\n",
        "    print(\"Ingrese la opción correcta\")"
      ],
      "metadata": {
        "colab": {
          "base_uri": "https://localhost:8080/"
        },
        "id": "gqJqAWRS9fXn",
        "outputId": "d1a8aeff-7b03-46f5-b80e-a5a3c9186a26"
      },
      "execution_count": 6,
      "outputs": [
        {
          "output_type": "stream",
          "name": "stdout",
          "text": [
            "1.- SUMA DE NUMEROS\n",
            "2.- MULTIPLICACION DE NUMEROS\n",
            "3.- DIVISION DE NUMEROS\n",
            "Ingrese la operación:1\n",
            "Suma de números\n",
            "Ingrese primer número:10\n",
            "Ingrese segundo número:20\n",
            "La suma es 30\n"
          ]
        }
      ]
    },
    {
      "cell_type": "markdown",
      "source": [
        "**Ejercicio 4**"
      ],
      "metadata": {
        "id": "U6rvvpbW-sfn"
      }
    },
    {
      "cell_type": "code",
      "source": [
        "#Verificar si una calificación en la PUCE es válida\n",
        "cali=float(input(\"Ingrese una calificación:\")) #Pedir al usuario ingresar una califación\n",
        "\n",
        "#Si la calificación está entre 0 a 50, es válida\n",
        "if cali>=0 and cali<=50:\n",
        "    print(\"La calificación es válida\")\n",
        "\n",
        "#Caso contrario será inválida\n",
        "else:\n",
        "    print(\"La calificación no es válida\")"
      ],
      "metadata": {
        "colab": {
          "base_uri": "https://localhost:8080/"
        },
        "id": "sN3UAsc3-vFZ",
        "outputId": "7e51c691-d0c2-406f-9716-41204d451cf6"
      },
      "execution_count": 4,
      "outputs": [
        {
          "output_type": "stream",
          "name": "stdout",
          "text": [
            "Ingrese una calificación:43.5\n",
            "La calificación es válida\n"
          ]
        }
      ]
    },
    {
      "cell_type": "markdown",
      "source": [
        "**Ejercicio 5**"
      ],
      "metadata": {
        "id": "A-w2ZuG5-66A"
      }
    },
    {
      "cell_type": "code",
      "source": [
        "#Verificar si una persona es mayor de edad\n",
        "edad=int(input(\"Ingrese su edad:\")) #Pedir al usuario ingresar una edad\n",
        "\n",
        "#Si la edad es mayor o igual de 18, es mayor de edad\n",
        "if edad>=18:\n",
        "    print(\"Es mayor de edad\")\n",
        "#Caso contrario, es menor de edad\n",
        "else:\n",
        "    print(\"Es menor de edad\")"
      ],
      "metadata": {
        "colab": {
          "base_uri": "https://localhost:8080/"
        },
        "id": "JwP_fiDd_ath",
        "outputId": "70ac71d8-6870-44df-d1d8-9ae6cea4e17a"
      },
      "execution_count": 7,
      "outputs": [
        {
          "output_type": "stream",
          "name": "stdout",
          "text": [
            "Ingrese su edad:17\n",
            "Es menor de edad\n"
          ]
        }
      ]
    },
    {
      "cell_type": "markdown",
      "source": [
        "**Ejercicio 6**"
      ],
      "metadata": {
        "id": "-HdYhplY_rEi"
      }
    },
    {
      "cell_type": "code",
      "source": [
        "#Verificar si un número es positivo o negativo\n",
        "number=int(input(\"Ingrese un número:\")) #Pedir al usuario ingresar un número\n",
        "\n",
        "#Si el número ingresado es mayor o igual a 0, es positivo\n",
        "if number>=0:\n",
        "    print(\"El número es positivo\")\n",
        "#Caso contrario es negativo\n",
        "else:\n",
        "    print(\"El número es negativo\")"
      ],
      "metadata": {
        "colab": {
          "base_uri": "https://localhost:8080/"
        },
        "id": "7S_xwAoo_szV",
        "outputId": "bcbce9b9-8475-400b-899e-161b61618dc9"
      },
      "execution_count": 8,
      "outputs": [
        {
          "output_type": "stream",
          "name": "stdout",
          "text": [
            "Ingrese un número:-10\n",
            "El número es negativo\n"
          ]
        }
      ]
    }
  ]
}