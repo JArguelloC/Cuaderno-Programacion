{
  "nbformat": 4,
  "nbformat_minor": 0,
  "metadata": {
    "colab": {
      "provenance": []
    },
    "kernelspec": {
      "name": "python3",
      "display_name": "Python 3"
    },
    "language_info": {
      "name": "python"
    }
  },
  "cells": [
    {
      "cell_type": "markdown",
      "source": [
        "**Ejercicio 1**"
      ],
      "metadata": {
        "id": "PJHlt5C7-l0A"
      }
    },
    {
      "cell_type": "code",
      "execution_count": 1,
      "metadata": {
        "colab": {
          "base_uri": "https://localhost:8080/"
        },
        "id": "YM4BsVkV-Eb5",
        "outputId": "199fa6b9-0c04-4ffa-e8ce-a2b7b136a512"
      },
      "outputs": [
        {
          "output_type": "stream",
          "name": "stdout",
          "text": [
            "Ingrese el tamaño del Vector:5\n",
            "Ingrese tamaño mínimo: 3\n",
            "Ingrese el valor máximo5\n",
            "IMPRESION NORMAL\n",
            "[4 3 5 3 5]\n",
            "IMPRESION ORDENADA\n",
            "[3 3 4 5 5]\n",
            "La mediana es 4\n"
          ]
        }
      ],
      "source": [
        "#Importar la libreria random de python\n",
        "import random\n",
        "\n",
        "# Definición de entradas\n",
        "# Solicita al usuario ingresar el tamaño del vector y lo almacena en la variable 'n'\n",
        "n = int(input('Ingrese el tamaño del Vector:'))\n",
        "# Solicita al usuario ingresar el tamaño mínimo de los números en el vector y lo almacena en 'a'\n",
        "a = int(input(\"Ingrese tamaño mínimo: \"))\n",
        "# Solicita al usuario ingresar el tamaño máximo de los números en el vector y lo almacena en 'b'\n",
        "b = int(input(\"Ingrese el valor máximo\"))\n",
        "# Inicializa una lista vacía 'vec' que contendrá los números del vector\n",
        "vec = []\n",
        "\n",
        "# Ingreso de datos en el vector\n",
        "# Bucle 'for' que se repite 'n' veces para llenar el vector con números aleatorios\n",
        "for i in range(n):\n",
        "    # Genera un número aleatorio entre 'a' y 'b' y lo almacena en 'num'\n",
        "    num = random.randint(a, b)\n",
        "    # Agrega el número generado a la lista 'vec'\n",
        "    vec.append(num)\n",
        "\n",
        "# Imprimir el vector original\n",
        "print(\"IMPRESION NORMAL\")\n",
        "# Imprime el vector en un formato específico\n",
        "print('[', end=\"\")\n",
        "for i in range(n):\n",
        "    # Si es el último elemento, lo imprime sin un espacio al final\n",
        "    if i == n - 1:\n",
        "        print(vec[i], end=\"\")\n",
        "    else:\n",
        "        # Si no es el último elemento, lo imprime seguido de un espacio\n",
        "        print(vec[i], end=\" \")\n",
        "print(']')\n",
        "\n",
        "# Ordenar el vector de menor a mayor usando el algoritmo de burbuja\n",
        "for i in range(n):\n",
        "    for j in range(n - 1):\n",
        "        # Si el elemento actual es mayor que el siguiente, los intercambia\n",
        "        if vec[j] > vec[j + 1]:\n",
        "            aux = vec[j]\n",
        "            vec[j] = vec[j + 1]\n",
        "            vec[j + 1] = aux\n",
        "\n",
        "# Imprimir el vector ordenado\n",
        "print(\"IMPRESION ORDENADA\")\n",
        "# Imprime el vector ordenado en un formato específico\n",
        "print('[', end=\"\")\n",
        "for i in range(n):\n",
        "    # Si es el último elemento, lo imprime sin un espacio al final\n",
        "    if i == n - 1:\n",
        "        print(vec[i], end=\"\")\n",
        "    else:\n",
        "        # Si no es el último elemento, lo imprime seguido de un espacio\n",
        "        print(vec[i], end=\" \")\n",
        "print(']')\n",
        "\n",
        "# Calculo de la Mediana\n",
        "# Si el tamaño del vector es par, la mediana es el promedio de los dos elementos centrales\n",
        "if n % 2 == 0:\n",
        "    var1 = n // 2\n",
        "    var2 = (n - 1) // 2\n",
        "    mediana = (vec[var1] + vec[var2]) / 2\n",
        "else:\n",
        "    # Si el tamaño del vector es impar, la mediana es el elemento central\n",
        "    var = n // 2\n",
        "    mediana = vec[var]\n",
        "\n",
        "# Imprimir la mediana calculada\n",
        "print(f'La mediana es {mediana}')"
      ]
    }
  ]
}