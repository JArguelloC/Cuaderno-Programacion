{
  "nbformat": 4,
  "nbformat_minor": 0,
  "metadata": {
    "colab": {
      "provenance": []
    },
    "kernelspec": {
      "name": "python3",
      "display_name": "Python 3"
    },
    "language_info": {
      "name": "python"
    }
  },
  "cells": [
    {
      "cell_type": "markdown",
      "source": [
        "**Ejercicio 1**"
      ],
      "metadata": {
        "id": "_CRRWTCj5lvn"
      }
    },
    {
      "cell_type": "code",
      "execution_count": 2,
      "metadata": {
        "colab": {
          "base_uri": "https://localhost:8080/"
        },
        "id": "8MdaxUhz4mA5",
        "outputId": "2d322752-7fb9-4005-a28b-346b70c396c0"
      },
      "outputs": [
        {
          "output_type": "stream",
          "name": "stdout",
          "text": [
            "Ingrese la cantidad de segundos:127848\n",
            "35:30:48\n"
          ]
        }
      ],
      "source": [
        "seg=int(input(\"Ingrese la cantidad de segundos:\")) #Pedir al usuario una cantidad de seg\n",
        "\n",
        "minu=seg//60 #Transformar segundos a minutos\n",
        "sobra_minu=seg%60 #Hallar los minutos sobrantes\n",
        "\n",
        "hora=minu//60 #Transformar de minutos a horas\n",
        "sobra_hora=minu%60 #Hallar las horas sobrantes\n",
        "\n",
        "#Imprimir el tiempo de una cantidad de segundos\n",
        "print(f\"{hora}:{sobra_hora}:{sobra_minu}\")"
      ]
    },
    {
      "cell_type": "markdown",
      "source": [
        "**Ejercicio 2**"
      ],
      "metadata": {
        "id": "5V_2OVxO5lJU"
      }
    },
    {
      "cell_type": "code",
      "source": [
        "fosforo=int(input(\"Ingrese la cantidad de fósforos:\")) #Pedir al usuario ingresar una cantidad de fósfors\n",
        "residuo=fosforo%40 #Hallar el residuo de la cantidad de fósforos\n",
        "\n",
        "cajas=fosforo/40 #Hallar el número de cajas\n",
        "sobra_cajas=fosforo%40 #Hallar las cajas sobrantes de fosforos\n",
        "\n",
        "paquetes=cajas/30 #Hallar el número de paquetes\n",
        "sobra_paquetes=cajas%30 #Hallar las cajas sobrantes de fosforos\n",
        "\n",
        "cartones=paquetes/50 #Hallar el número de cartones\n",
        "sobra_cartones=paquetes%50 #Hallar los cartones sobrantes de fosforos\n",
        "\n",
        "furgones=cartones/30 #Hallar la cantidad de furgones en base a cartones\n",
        "sobra_furgones=cartones%30 #Hallar los furgones sobrantes de los cartones\n",
        "\n",
        "#Imprimir los resultados añadiendo (int) para valores enteros y exactos\n",
        "print(f\"Sobran fósforos={int(residuo)}\")\n",
        "print(f\"cajas={int(cajas)}\")\n",
        "print(f\"Sobran cajas={int(sobra_cajas)}\")\n",
        "\n",
        "print(f\"paquetes={int(paquetes)}\")\n",
        "print(f\"Sobran cajas={int(sobra_paquetes)}\")\n",
        "\n",
        "print(f\"cartones={int(cartones)}\")\n",
        "print(f\"Sobran cajas={int(sobra_cartones)}\")\n",
        "\n",
        "print(f\"furgones={int(furgones)}\")\n",
        "print(f\"Sobran cajas={int(sobra_furgones)}\")\n",
        "\n",
        "#Si hay cartones se van furgones\n",
        "if furgones>0:\n",
        "    print(f\"se van a ir {int(furgones)}\")\n",
        "else:\n",
        "    print(f\"No se va ir ningun furgon\")"
      ],
      "metadata": {
        "colab": {
          "base_uri": "https://localhost:8080/"
        },
        "id": "NHKr3NwZ50GO",
        "outputId": "b1af90fe-0a9b-4c7c-a19d-75f6d596b5b5"
      },
      "execution_count": 5,
      "outputs": [
        {
          "output_type": "stream",
          "name": "stdout",
          "text": [
            "Ingrese la cantidad de fósforos:732742\n",
            "Sobran fósforos=22\n",
            "cajas=18318\n",
            "Sobran cajas=22\n",
            "paquetes=610\n",
            "Sobran cajas=18\n",
            "cartones=12\n",
            "Sobran cajas=10\n",
            "furgones=0\n",
            "Sobran cajas=12\n",
            "se van a ir 0\n"
          ]
        }
      ]
    }
  ]
}